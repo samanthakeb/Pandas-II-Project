{
 "cells": [
  {
   "cell_type": "markdown",
   "metadata": {},
   "source": [
    "# AirBnB NY Locations Data Case Study\n",
    "\n",
    "In this final project, you task will be to take the data provided and find evidance to answer the following questions.\n",
    "\n",
    "1. Which hosts are the busiest and why?\n",
    "2. How many neighborhood groups are available and which shows up the most?\n",
    "3. Are private rooms the most popular in manhattan?\n",
    "4. Which hosts are the busiest and based on their reviews?\n",
    "5. Which neighorhood group has the highest average price?\n",
    "6. Which neighborhood group has the highest total price?\n",
    "7. Which top 5 hosts have the highest total price?\n",
    "8. Who currently has no (zero) availability with a review count of 100 or more?\n",
    "9. What host has the highest total of prices and where are they located?\n",
    "10. When did Danielle from Queens last receive a review?\n",
    "\n",
    "You will be given **4 hours** to complete this assignment. \n",
    "**Be Advised** I will go dark for this intire assignment time period. That said, any questions that you would like to ask about the data, or the project **MUST** be asked before the time starts. Once the time has started, I can no longer give information.\n",
    "\n",
    "This is to similate what you will face when you are out in the wild. \n",
    "\n",
    "Happy Coding!"
   ]
  },
  {
   "cell_type": "code",
   "execution_count": 1,
   "metadata": {},
   "outputs": [],
   "source": [
    "import numpy as np\n",
    "import pandas as pd\n",
    "import matplotlib.pyplot as plt"
   ]
  },
  {
   "cell_type": "code",
   "execution_count": 2,
   "metadata": {},
   "outputs": [
    {
     "data": {
      "text/html": [
       "<div>\n",
       "<style scoped>\n",
       "    .dataframe tbody tr th:only-of-type {\n",
       "        vertical-align: middle;\n",
       "    }\n",
       "\n",
       "    .dataframe tbody tr th {\n",
       "        vertical-align: top;\n",
       "    }\n",
       "\n",
       "    .dataframe thead th {\n",
       "        text-align: right;\n",
       "    }\n",
       "</style>\n",
       "<table border=\"1\" class=\"dataframe\">\n",
       "  <thead>\n",
       "    <tr style=\"text-align: right;\">\n",
       "      <th></th>\n",
       "      <th>id</th>\n",
       "      <th>name</th>\n",
       "      <th>host_id</th>\n",
       "      <th>host_name</th>\n",
       "      <th>neighbourhood_group</th>\n",
       "      <th>neighbourhood</th>\n",
       "      <th>latitude</th>\n",
       "      <th>longitude</th>\n",
       "      <th>room_type</th>\n",
       "      <th>price</th>\n",
       "      <th>minimum_nights</th>\n",
       "      <th>number_of_reviews</th>\n",
       "      <th>last_review</th>\n",
       "      <th>reviews_per_month</th>\n",
       "      <th>calculated_host_listings_count</th>\n",
       "      <th>availability_365</th>\n",
       "    </tr>\n",
       "  </thead>\n",
       "  <tbody>\n",
       "    <tr>\n",
       "      <th>0</th>\n",
       "      <td>2539</td>\n",
       "      <td>Clean &amp; quiet apt home by the park</td>\n",
       "      <td>2787</td>\n",
       "      <td>John</td>\n",
       "      <td>Brooklyn</td>\n",
       "      <td>Kensington</td>\n",
       "      <td>40.64749</td>\n",
       "      <td>-73.97237</td>\n",
       "      <td>Private room</td>\n",
       "      <td>149</td>\n",
       "      <td>1</td>\n",
       "      <td>9</td>\n",
       "      <td>2018-10-19</td>\n",
       "      <td>0.21</td>\n",
       "      <td>6</td>\n",
       "      <td>365</td>\n",
       "    </tr>\n",
       "    <tr>\n",
       "      <th>1</th>\n",
       "      <td>2595</td>\n",
       "      <td>Skylit Midtown Castle</td>\n",
       "      <td>2845</td>\n",
       "      <td>Jennifer</td>\n",
       "      <td>Manhattan</td>\n",
       "      <td>Midtown</td>\n",
       "      <td>40.75362</td>\n",
       "      <td>-73.98377</td>\n",
       "      <td>Entire home/apt</td>\n",
       "      <td>225</td>\n",
       "      <td>1</td>\n",
       "      <td>45</td>\n",
       "      <td>2019-05-21</td>\n",
       "      <td>0.38</td>\n",
       "      <td>2</td>\n",
       "      <td>355</td>\n",
       "    </tr>\n",
       "    <tr>\n",
       "      <th>2</th>\n",
       "      <td>3647</td>\n",
       "      <td>THE VILLAGE OF HARLEM....NEW YORK !</td>\n",
       "      <td>4632</td>\n",
       "      <td>Elisabeth</td>\n",
       "      <td>Manhattan</td>\n",
       "      <td>Harlem</td>\n",
       "      <td>40.80902</td>\n",
       "      <td>-73.94190</td>\n",
       "      <td>Private room</td>\n",
       "      <td>150</td>\n",
       "      <td>3</td>\n",
       "      <td>0</td>\n",
       "      <td>NaN</td>\n",
       "      <td>NaN</td>\n",
       "      <td>1</td>\n",
       "      <td>365</td>\n",
       "    </tr>\n",
       "    <tr>\n",
       "      <th>3</th>\n",
       "      <td>3831</td>\n",
       "      <td>Cozy Entire Floor of Brownstone</td>\n",
       "      <td>4869</td>\n",
       "      <td>LisaRoxanne</td>\n",
       "      <td>Brooklyn</td>\n",
       "      <td>Clinton Hill</td>\n",
       "      <td>40.68514</td>\n",
       "      <td>-73.95976</td>\n",
       "      <td>Entire home/apt</td>\n",
       "      <td>89</td>\n",
       "      <td>1</td>\n",
       "      <td>270</td>\n",
       "      <td>2019-07-05</td>\n",
       "      <td>4.64</td>\n",
       "      <td>1</td>\n",
       "      <td>194</td>\n",
       "    </tr>\n",
       "    <tr>\n",
       "      <th>4</th>\n",
       "      <td>5022</td>\n",
       "      <td>Entire Apt: Spacious Studio/Loft by central park</td>\n",
       "      <td>7192</td>\n",
       "      <td>Laura</td>\n",
       "      <td>Manhattan</td>\n",
       "      <td>East Harlem</td>\n",
       "      <td>40.79851</td>\n",
       "      <td>-73.94399</td>\n",
       "      <td>Entire home/apt</td>\n",
       "      <td>80</td>\n",
       "      <td>10</td>\n",
       "      <td>9</td>\n",
       "      <td>2018-11-19</td>\n",
       "      <td>0.10</td>\n",
       "      <td>1</td>\n",
       "      <td>0</td>\n",
       "    </tr>\n",
       "  </tbody>\n",
       "</table>\n",
       "</div>"
      ],
      "text/plain": [
       "     id                                              name  host_id  \\\n",
       "0  2539                Clean & quiet apt home by the park     2787   \n",
       "1  2595                             Skylit Midtown Castle     2845   \n",
       "2  3647               THE VILLAGE OF HARLEM....NEW YORK !     4632   \n",
       "3  3831                   Cozy Entire Floor of Brownstone     4869   \n",
       "4  5022  Entire Apt: Spacious Studio/Loft by central park     7192   \n",
       "\n",
       "     host_name neighbourhood_group neighbourhood  latitude  longitude  \\\n",
       "0         John            Brooklyn    Kensington  40.64749  -73.97237   \n",
       "1     Jennifer           Manhattan       Midtown  40.75362  -73.98377   \n",
       "2    Elisabeth           Manhattan        Harlem  40.80902  -73.94190   \n",
       "3  LisaRoxanne            Brooklyn  Clinton Hill  40.68514  -73.95976   \n",
       "4        Laura           Manhattan   East Harlem  40.79851  -73.94399   \n",
       "\n",
       "         room_type  price  minimum_nights  number_of_reviews last_review  \\\n",
       "0     Private room    149               1                  9  2018-10-19   \n",
       "1  Entire home/apt    225               1                 45  2019-05-21   \n",
       "2     Private room    150               3                  0         NaN   \n",
       "3  Entire home/apt     89               1                270  2019-07-05   \n",
       "4  Entire home/apt     80              10                  9  2018-11-19   \n",
       "\n",
       "   reviews_per_month  calculated_host_listings_count  availability_365  \n",
       "0               0.21                               6               365  \n",
       "1               0.38                               2               355  \n",
       "2                NaN                               1               365  \n",
       "3               4.64                               1               194  \n",
       "4               0.10                               1                 0  "
      ]
     },
     "execution_count": 2,
     "metadata": {},
     "output_type": "execute_result"
    }
   ],
   "source": [
    "air_bnb = pd.read_csv('C:\\\\Users\\\\saman\\\\OneDrive\\\\Documents\\\\Coding Temple Work\\\\AB_NYC_2019 - AB_NYC_2019.csv')\n",
    "air_bnb.head()"
   ]
  },
  {
   "cell_type": "code",
   "execution_count": 8,
   "metadata": {},
   "outputs": [
    {
     "name": "stdout",
     "output_type": "stream",
     "text": [
      "There are 5 neighbourhood groups\n",
      "The most common neighbourhood group is Manhattan\n"
     ]
    }
   ],
   "source": [
    "# How many neighborhood groups are available and which shows up the most?\n",
    "unique_groups = air_bnb['neighbourhood_group'].unique()\n",
    "\n",
    "group_counts = air_bnb['neighbourhood_group'].value_counts()\n",
    "\n",
    "most_common = group_counts = group_counts.idxmax()\n",
    "\n",
    "print(f\"There are {len(unique_groups)} neighbourhood groups\")\n",
    "print(f\"The most common neighbourhood group is {most_common}\")\n"
   ]
  },
  {
   "cell_type": "code",
   "execution_count": 11,
   "metadata": {},
   "outputs": [
    {
     "name": "stdout",
     "output_type": "stream",
     "text": [
      "The most popular type of room in Manhattan is not the private room, its the Entire home/apt.\n"
     ]
    }
   ],
   "source": [
    "# Are private rooms the most popular in manhattan?\n",
    "manhattan_data = air_bnb[air_bnb['neighbourhood_group'] == 'Manhattan']\n",
    "\n",
    "room_type = manhattan_data['room_type'].value_counts()\n",
    "\n",
    "most_popular = room_type.idxmax()\n",
    "\n",
    "print(f\"The most popular type of room in Manhattan is not the private room, its the {most_popular}.\")\n"
   ]
  },
  {
   "cell_type": "code",
   "execution_count": 15,
   "metadata": {},
   "outputs": [
    {
     "name": "stdout",
     "output_type": "stream",
     "text": [
      "The busiest hosts based on their number of reviews are:\n",
      "\n",
      "        host_id host_name  number_of_reviews\n",
      "11759  47621202      Dona                629\n",
      "2031    4734398        Jj                607\n",
      "2030    4734398        Jj                597\n",
      "2015    4734398        Jj                594\n",
      "13495  47621202      Dona                576\n"
     ]
    }
   ],
   "source": [
    "# Which hosts are the busiest and based on their reviews?\n",
    "busiest_host = air_bnb.sort_values(by = 'number_of_reviews', ascending=False)\n",
    "\n",
    "top_host = busiest_host[['host_id', 'host_name', 'number_of_reviews']]\n",
    "print(f\"The busiest hosts based on their number of reviews are:\")\n",
    "print(f\"\\n{top_host.head()}\")\n"
   ]
  },
  {
   "cell_type": "code",
   "execution_count": 16,
   "metadata": {},
   "outputs": [
    {
     "name": "stdout",
     "output_type": "stream",
     "text": [
      "The neighbourhood group with the highest average price is Manhattan.\n"
     ]
    }
   ],
   "source": [
    "#Which neighorhood group has the highest average price?\n",
    "average_price = air_bnb.groupby('neighbourhood_group')['price'].mean()\n",
    "\n",
    "highest_average = average_price.idxmax()\n",
    "print(f\"The neighbourhood group with the highest average price is {highest_average}.\")"
   ]
  },
  {
   "cell_type": "code",
   "execution_count": 17,
   "metadata": {},
   "outputs": [
    {
     "name": "stdout",
     "output_type": "stream",
     "text": [
      "The neighbourhood group with the highest total price is Manhattan with a total value of $4264527.\n"
     ]
    }
   ],
   "source": [
    "# Which neighbor hood group has the highest total price?\n",
    "total_price = air_bnb.groupby('neighbourhood_group')['price'].sum()\n",
    "\n",
    "highest_total_price = total_price.idxmax()\n",
    "\n",
    "highest_total_value = total_price.max()\n",
    "\n",
    "print(f\"The neighbourhood group with the highest total price is {highest_total_price} with a total value of ${highest_total_value}.\")\n"
   ]
  },
  {
   "cell_type": "code",
   "execution_count": 22,
   "metadata": {},
   "outputs": [
    {
     "name": "stdout",
     "output_type": "stream",
     "text": [
      "The top 5 hosts with the highest total price are\n",
      "          host_name  price\n",
      "34629  Sonder (NYC)  82795\n",
      "29393    Blueground  70331\n",
      "32054         Sally  37097\n",
      "34034    Red Awning  35294\n",
      "19564          Kara  33581\n"
     ]
    }
   ],
   "source": [
    "#Which top 5 hosts have the highest total price?\n",
    "priceByHost = air_bnb.groupby(['host_id', 'host_name'])['price'].sum()\n",
    "priceByHost = priceByHost.reset_index()\n",
    "\n",
    "sorted_hosts = priceByHost.sort_values(by = 'price', ascending=False)\n",
    "\n",
    "top5 = sorted_hosts.head(5)\n",
    "\n",
    "print(\"The top 5 hosts with the highest total price are\")\n",
    "print(top5[['host_name', 'price']])"
   ]
  },
  {
   "cell_type": "code",
   "execution_count": 24,
   "metadata": {},
   "outputs": [
    {
     "name": "stdout",
     "output_type": "stream",
     "text": [
      "The hosts with 0 availabilty and 100 or more reviews are:\n",
      "         host_id   host_name  availability_365  number_of_reviews\n",
      "8           7490   MaryEllen                 0                118\n",
      "94         79402  Christiana                 0                168\n",
      "132       129352         Sol                 0                193\n",
      "174       193722       Coral                 0                114\n",
      "180        67778        Doug                 0                206\n",
      "...          ...         ...               ...                ...\n",
      "29581  127740507    Kathleen                 0                103\n",
      "30461  176185168       Janet                 0                119\n",
      "31250   21074914      Albert                 0                102\n",
      "32670   40119874    Stephany                 0                131\n",
      "35014  209549523     Mariluz                 0                112\n",
      "\n",
      "[162 rows x 4 columns]\n"
     ]
    }
   ],
   "source": [
    "# Who currently has no (zero) availability with a review count of 100 or more?\n",
    "busy_hosts = air_bnb[(air_bnb['availability_365'] == 0) & (air_bnb['number_of_reviews'] >= 100)]\n",
    "\n",
    "print(\"The hosts with 0 availabilty and 100 or more reviews are:\")\n",
    "print(busy_hosts[['host_id', 'host_name', 'availability_365', 'number_of_reviews']])"
   ]
  },
  {
   "cell_type": "code",
   "execution_count": 27,
   "metadata": {},
   "outputs": [
    {
     "name": "stdout",
     "output_type": "stream",
     "text": [
      "The host with the highest total price is:\n",
      "host_id                         219517861\n",
      "host_name                    Sonder (NYC)\n",
      "price                               57738\n",
      "neighbourhood          Financial District\n",
      "neighbourhood_group             Manhattan\n",
      "Name: 35431, dtype: object\n"
     ]
    }
   ],
   "source": [
    "# What host has the highest total of prices and where are they located?\n",
    "total_host_price = air_bnb.groupby(['host_id', 'host_name', 'neighbourhood_group', 'neighbourhood'])['price'].sum()\n",
    "total_host_price = total_host_price.reset_index()\n",
    "\n",
    "highest_total_host = total_host_price.loc[total_host_price['price'].idxmax()]\n",
    "\n",
    "print(\"The host with the highest total price is:\")\n",
    "print(highest_total_host[['host_id', 'host_name', 'price', 'neighbourhood', 'neighbourhood_group']])"
   ]
  },
  {
   "cell_type": "code",
   "execution_count": 31,
   "metadata": {},
   "outputs": [
    {
     "name": "stdout",
     "output_type": "stream",
     "text": [
      "Danielle from Queens last had a review on 2019-07-08 00:00:00\n"
     ]
    },
    {
     "name": "stderr",
     "output_type": "stream",
     "text": [
      "C:\\Users\\saman\\AppData\\Local\\Temp\\ipykernel_18536\\1219576504.py:5: SettingWithCopyWarning: \n",
      "A value is trying to be set on a copy of a slice from a DataFrame.\n",
      "Try using .loc[row_indexer,col_indexer] = value instead\n",
      "\n",
      "See the caveats in the documentation: https://pandas.pydata.org/pandas-docs/stable/user_guide/indexing.html#returning-a-view-versus-a-copy\n",
      "  danielles_reviews.loc[:, 'last_review'] = pd.to_datetime(danielles_reviews['last_review'], errors='coerce')\n",
      "C:\\Users\\saman\\AppData\\Local\\Temp\\ipykernel_18536\\1219576504.py:5: DeprecationWarning: In a future version, `df.iloc[:, i] = newvals` will attempt to set the values inplace instead of always setting a new array. To retain the old behavior, use either `df[df.columns[i]] = newvals` or, if columns are non-unique, `df.isetitem(i, newvals)`\n",
      "  danielles_reviews.loc[:, 'last_review'] = pd.to_datetime(danielles_reviews['last_review'], errors='coerce')\n"
     ]
    }
   ],
   "source": [
    "# When did Danielle from Queens last receive a review?\n",
    "danielles_reviews = air_bnb[(air_bnb['host_name'] == 'Danielle') & (air_bnb['neighbourhood_group'] == 'Queens')]\n",
    "\n",
    "if not danielles_reviews.empty:\n",
    "    danielles_reviews.loc[:, 'last_review'] = pd.to_datetime(danielles_reviews['last_review'], errors='coerce')\n",
    "    danielles_reviews = danielles_reviews.dropna(subset=['last_review'])\n",
    "    \n",
    "newest_review = danielles_reviews['last_review'].max()\n",
    "print(f\"Danielle from Queens last had a review on {newest_review}\")"
   ]
  },
  {
   "cell_type": "markdown",
   "metadata": {},
   "source": [
    "## Further Questions\n",
    "\n",
    "1. Which host has the most listings?"
   ]
  },
  {
   "cell_type": "code",
   "execution_count": 32,
   "metadata": {},
   "outputs": [
    {
     "name": "stdout",
     "output_type": "stream",
     "text": [
      "The host with the most listings is:\n",
      "host_id                              219517861\n",
      "host_name                         Sonder (NYC)\n",
      "calculated_host_listings_count             327\n",
      "Name: 38293, dtype: object\n"
     ]
    }
   ],
   "source": [
    "most_listings = air_bnb.loc[air_bnb['calculated_host_listings_count'].idxmax()]\n",
    "\n",
    "print(\"The host with the most listings is:\")\n",
    "print(most_listings[['host_id', 'host_name', 'calculated_host_listings_count']])"
   ]
  },
  {
   "cell_type": "markdown",
   "metadata": {},
   "source": [
    "2. How many listings have completely open availability?"
   ]
  },
  {
   "cell_type": "code",
   "execution_count": 34,
   "metadata": {},
   "outputs": [
    {
     "name": "stdout",
     "output_type": "stream",
     "text": [
      "There are 1295 listings that have completely open availability.\n"
     ]
    }
   ],
   "source": [
    "open_availability = air_bnb[air_bnb['availability_365'] == 365]\n",
    "\n",
    "number_of_available = len(open_availability)\n",
    "\n",
    "print(f\"There are {number_of_available} listings that have completely open availability.\")"
   ]
  },
  {
   "cell_type": "markdown",
   "metadata": {},
   "source": [
    "3. What room_types have the highest review numbers?"
   ]
  },
  {
   "cell_type": "code",
   "execution_count": 37,
   "metadata": {},
   "outputs": [
    {
     "name": "stdout",
     "output_type": "stream",
     "text": [
      "These room types have the highest review numbers \n",
      " room_type\n",
      "Entire home/apt    580403\n",
      "Private room       538346\n",
      "Shared room         19256\n",
      "Name: number_of_reviews, dtype: int64\n"
     ]
    }
   ],
   "source": [
    "room_type_reviews = air_bnb.groupby('room_type')['number_of_reviews'].sum()\n",
    "\n",
    "sorted_rooms = room_type_reviews.sort_values(ascending=False)\n",
    "\n",
    "highest_reviewed = sorted_rooms.head(5)\n",
    "\n",
    "print(f\"These room types have the highest review numbers \\n {highest_reviewed}\")\n"
   ]
  },
  {
   "cell_type": "markdown",
   "metadata": {},
   "source": [
    "# Final Conclusion\n",
    "\n",
    "In this cell, write your final conclusion for each of the questions asked.\n",
    "\n",
    "Also, if you uncovered some more details that were not asked above, please discribe them here.\n",
    "\n",
    "-- Add your conclusion --"
   ]
  },
  {
   "cell_type": "code",
   "execution_count": null,
   "metadata": {},
   "outputs": [],
   "source": [
    "Based off of the data its clear that Manhattan is both the most popular and most expensive Neighbourhood for Airbnbs, with the most popular type of room being the entire home/apt, and a shared room being the least popular."
   ]
  }
 ],
 "metadata": {
  "kernelspec": {
   "display_name": "Python 3 (ipykernel)",
   "language": "python",
   "name": "python3"
  },
  "language_info": {
   "codemirror_mode": {
    "name": "ipython",
    "version": 3
   },
   "file_extension": ".py",
   "mimetype": "text/x-python",
   "name": "python",
   "nbconvert_exporter": "python",
   "pygments_lexer": "ipython3",
   "version": "3.11.4"
  }
 },
 "nbformat": 4,
 "nbformat_minor": 2
}
